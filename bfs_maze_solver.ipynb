{
 "cells": [
  {
   "cell_type": "code",
   "execution_count": 45,
   "id": "034972d9-a1c7-4029-92e7-26a3ae7b5f38",
   "metadata": {},
   "outputs": [
    {
     "data": {
      "text/plain": [
       "array([[0., 0., 0.],\n",
       "       [0., 1., 0.],\n",
       "       [0., 1., 1.]])"
      ]
     },
     "execution_count": 45,
     "metadata": {},
     "output_type": "execute_result"
    }
   ],
   "source": [
    "import numpy as np \n",
    "\n",
    "# 3x3 matrix full of zeros \n",
    "small_maze = np.zeros((3,3))\n",
    "\n",
    "# coordinate of the cells occupied by blocks \n",
    "blocks = [(1,1), (2,1), (2,2)]\n",
    "\n",
    "\n",
    "for block in blocks:\n",
    "    # set the value of block-occupied cells to be equal to 1 \n",
    "    small_maze[block]= 1\n",
    "\n",
    "small_maze"
   ]
  },
  {
   "cell_type": "code",
   "execution_count": 46,
   "id": "925cc40c-b0ce-440a-a19d-11689fafcf61",
   "metadata": {},
   "outputs": [
    {
     "data": {
      "image/png": "[encoded data removed]",
      "text/plain": [
       "<Figure size 432x288 with 1 Axes>"
      ]
     },
     "metadata": {
      "needs_background": "light"
     },
     "output_type": "display_data"
    }
   ],
   "source": [
    "import matplotlib.pyplot as plt \n",
    "\n",
    "def plot_maze(maze): \n",
    "    ax = plt.gca() # create new figure \n",
    "    ax.invert_yaxis() # invert the y-axis to match the matrix\n",
    "    ax.axis('off') # hide the axis labels \n",
    "    ax.set_aspect('equal') # make sure the cells are sqaure\n",
    "    \n",
    "    plt.pcolormesh(maze, edgecolors= 'black', linewidth=2, cmap='Accent')\n",
    "    plt.show()\n",
    "    \n",
    "plot_maze(small_maze)"
   ]
  },
  {
   "cell_type": "code",
   "execution_count": 47,
   "id": "a438d40b-f992-4ff1-9bfb-3c03b070703c",
   "metadata": {},
   "outputs": [
    {
     "data": {
      "text/plain": [
       "array([[0., 0., 0.],\n",
       "       [0., 1., 0.],\n",
       "       [0., 1., 1.]])"
      ]
     },
     "execution_count": 47,
     "metadata": {},
     "output_type": "execute_result"
    }
   ],
   "source": [
    "small_maze"
   ]
  },
  {
   "cell_type": "code",
   "execution_count": 48,
   "id": "ca3c9008-8c1d-4459-a5c4-0cb5c8813feb",
   "metadata": {},
   "outputs": [],
   "source": [
    "def get_accessible_neighbors(maze:np.ndarray, cell:tuple):\n",
    "    \n",
    "    # list of accessible neighbors, initialized to empty\n",
    "    neighbors= []\n",
    "    \n",
    "    x,y = cell\n",
    "    \n",
    "    # for each adjacent cell position \n",
    "    for i, j in [(x-1,y-1), (x-1,y), (x,y-1), (x-1,y+1), (x, y+1), (x+1,y+1), (x+1, y-1), (x+1, y)]:\n",
    "      \n",
    "        # if the adjacent cell within the bounds and the gris is not occupied by a block \n",
    "        if i>= 0 and j>= 0 and i<len(maze) and j<len(maze[0]) and maze[(i,j)] == 0:\n",
    "            neighbors.append(((i,j), 1))\n",
    "    \n",
    "    return neighbors\n",
    "                                                           "
   ]
  },
  {
   "cell_type": "code",
   "execution_count": 49,
   "id": "5feeae71-4c64-4ac0-8c65-e57ed2e11a2e",
   "metadata": {},
   "outputs": [
    {
     "data": {
      "text/plain": [
       "[((0, 1), 1), ((1, 0), 1)]"
      ]
     },
     "execution_count": 49,
     "metadata": {},
     "output_type": "execute_result"
    }
   ],
   "source": [
    "get_accessible_neighbors(small_maze,(0,0))"
   ]
  },
  {
   "cell_type": "code",
   "execution_count": 50,
   "id": "b78092b0-a9c4-4503-963c-f36d77e6c685",
   "metadata": {},
   "outputs": [
    {
     "data": {
      "text/plain": [
       "[((1, 0), 1)]"
      ]
     },
     "execution_count": 50,
     "metadata": {},
     "output_type": "execute_result"
    }
   ],
   "source": [
    "get_accessible_neighbors(small_maze,(2,0))"
   ]
  },
  {
   "cell_type": "code",
   "execution_count": 63,
   "id": "3b8d22f6-c905-4351-8c7f-0b8e800935b4",
   "metadata": {},
   "outputs": [],
   "source": [
    "def reconstruct_shortest_path(parent:dict, start_cell: tuple, target_cell: tuple):\n",
    "    \n",
    "    shortest_path= []\n",
    "    \n",
    "    my_parent= target_cell # start from the end (target_cell)\n",
    "    \n",
    "    while  my_parent != start_cell:\n",
    "        \n",
    "        shortest_path.append(my_parent) # append the parent\n",
    "        \n",
    "        my_parent= parent[my_parent] # get the parent of the current parent\n",
    "        \n",
    "    shortest_path.append(start_cell) # append the start_cell\n",
    "    shortest_path.reverse() # reverse the path \n",
    "    \n",
    "    return shortest_path"
   ]
  },
  {
   "cell_type": "code",
   "execution_count": 71,
   "id": "bd39f7cc-983c-46b6-83a0-68e2d1bfd268",
   "metadata": {},
   "outputs": [],
   "source": [
    "from typing import Callable \n",
    "def bfs_maze_solver(start_cell: tuple, \n",
    "                    target_cell: tuple,\n",
    "                    maze: np.ndarray,\n",
    "                    get_neighbors: Callable,\n",
    "                    verbose:bool=False):\n",
    "    cell_visits = 0 # number of cells that were visited during the search \n",
    "    visited = set() # cells that have already been visited \n",
    "    to_expand = [] # cells that have to be expanded \n",
    "    \n",
    "    visited.add(start_cell) # add the first cell\n",
    "    to_expand.append(start_cell)\n",
    "    \n",
    "    # remember the shortest distance from the cell to other cells\n",
    "    shortest_distance = {}\n",
    "    shortest_distance[start_cell] = 0\n",
    "    # remember the direct parent of each cell of the other cells \n",
    "    parent = {}\n",
    "    parent[start_cell] = start_cell\n",
    "    \n",
    "    while len(to_expand) > 0:\n",
    "        \n",
    "        next_cell = to_expand.pop(0) # get the next cell and remove it from the expansion list\n",
    "        \n",
    "        if verbose:\n",
    "            print('\\nThe Expanding cell', next_cell)\n",
    "            \n",
    "        for neighbor, cost in get_neighbors(maze, next_cell):\n",
    "           \n",
    "            if verbose:\n",
    "                print('\\tVisiting neighbor cell', neighbor)\n",
    "            \n",
    "            cell_visits+=1\n",
    "            \n",
    "            if neighbor not in visited:\n",
    "                \n",
    "                visited.add(neighbor)\n",
    "                to_expand.append(neighbor)\n",
    "                parent[neighbor]= next_cell\n",
    "                shortest_distance[neighbor]= shortest_distance[next_cell] + cost\n",
    "                    \n",
    "                if neighbor == target_cell:\n",
    "                    \n",
    "                    shortest_path = reconstruct_shortest_path(parent, start_cell, target_cell)\n",
    "                    \n",
    "                    return shortest_path, shortest_distance[target_cell], cell_visits\n",
    "            \n",
    "            else: # the neighbor has been visited before \n",
    "                    \n",
    "                if shortest_distance[neighbor] > shortest_distance[next_cell] + cost:\n",
    "                        \n",
    "                    parent[neighbor]= next_cell\n",
    "                    shortest_distance[neighbor]= shortest_distance[next_cell] + cost\n",
    "                    \n",
    "    return None, None, None"
   ]
  },
  {
   "cell_type": "code",
   "execution_count": 73,
   "id": "5ed2b3cd-e7bb-4b9c-bdd8-e3f35a3929b6",
   "metadata": {},
   "outputs": [
    {
     "name": "stdout",
     "output_type": "stream",
     "text": [
      "\n",
      "The Expanding cell (2, 0)\n",
      "\tVisiting neighbor cell (1, 0)\n",
      "\n",
      "The Expanding cell (1, 0)\n",
      "\tVisiting neighbor cell (0, 0)\n",
      "\tVisiting neighbor cell (0, 1)\n",
      "\tVisiting neighbor cell (2, 0)\n",
      "\n",
      "The Expanding cell (0, 0)\n",
      "\tVisiting neighbor cell (0, 1)\n",
      "\tVisiting neighbor cell (1, 0)\n",
      "\n",
      "The Expanding cell (0, 1)\n",
      "\tVisiting neighbor cell (0, 0)\n",
      "\tVisiting neighbor cell (0, 2)\n",
      "\tVisiting neighbor cell (1, 2)\n",
      "\n",
      "Shortest Path:  [(2, 0), (1, 0), (0, 1), (1, 2)]\n",
      "cells on the shortest Path:  4\n",
      "Shortest path Distance:  3\n",
      "The number of cell visited:  9\n"
     ]
    }
   ],
   "source": [
    "start_cell = (2,0)\n",
    "target_cell = (1,2)\n",
    "\n",
    "solution, distance, cell_visits = bfs_maze_solver(start_cell, target_cell, small_maze, get_accessible_neighbors, verbose=True)\n",
    "\n",
    "print('\\nShortest Path: ', solution)\n",
    "print('cells on the shortest Path: ', len(solution))\n",
    "print('Shortest path Distance: ', distance)\n",
    "print('The number of cell visited: ', cell_visits)"
   ]
  },
  {
   "cell_type": "code",
   "execution_count": null,
   "id": "afe59c88-7653-420d-94f8-f43f3e5f9553",
   "metadata": {},
   "outputs": [],
   "source": []
  },
  {
   "cell_type": "code",
   "execution_count": null,
   "id": "7a53d7c4-28ec-4171-8074-07c388cf1c3f",
   "metadata": {},
   "outputs": [],
   "source": []
  }
 ],
 "metadata": {
  "kernelspec": {
   "display_name": "Python 3 (ipykernel)",
   "language": "python",
   "name": "python3"
  },
  "language_info": {
   "codemirror_mode": {
    "name": "ipython",
    "version": 3
   },
   "file_extension": ".py",
   "mimetype": "text/x-python",
   "name": "python",
   "nbconvert_exporter": "python",
   "pygments_lexer": "ipython3",
   "version": "3.9.12"
  }
 },
 "nbformat": 4,
 "nbformat_minor": 5
}
